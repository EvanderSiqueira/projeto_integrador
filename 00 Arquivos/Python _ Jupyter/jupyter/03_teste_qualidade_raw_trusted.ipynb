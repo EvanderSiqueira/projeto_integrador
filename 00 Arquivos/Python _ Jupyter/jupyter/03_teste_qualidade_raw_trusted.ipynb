{
 "cells": [
  {
   "cell_type": "markdown",
   "metadata": {
    "application/vnd.databricks.v1+cell": {
     "cellMetadata": {
      "byteLimit": 2048000,
      "rowLimit": 10000
     },
     "inputWidgets": {},
     "nuid": "8c7f07ed-773d-4d3a-8ee5-c19152c236e9",
     "showTitle": false,
     "title": ""
    }
   },
   "source": [
    "#### Definições"
   ]
  },
  {
   "cell_type": "code",
   "execution_count": 0,
   "metadata": {
    "application/vnd.databricks.v1+cell": {
     "cellMetadata": {
      "byteLimit": 2048000,
      "rowLimit": 10000
     },
     "inputWidgets": {},
     "nuid": "12379063-e06b-449e-862b-27be3feba22c",
     "showTitle": false,
     "title": ""
    }
   },
   "outputs": [],
   "source": [
    "# spark\n",
    "from pyspark.sql.functions import lit, col, when, isnull, concat, substring, expr, to_date, split, concat_ws, input_file_name, regexp_replace, lag, coalesce\n",
    "from pyspark.sql.types import DateType, IntegerType, DecimalType\n",
    "from pyspark.sql.window import Window"
   ]
  },
  {
   "cell_type": "markdown",
   "metadata": {
    "application/vnd.databricks.v1+cell": {
     "cellMetadata": {
      "byteLimit": 2048000,
      "rowLimit": 10000
     },
     "inputWidgets": {},
     "nuid": "2d1401d4-7a61-457b-8f39-26e2c7817566",
     "showTitle": false,
     "title": ""
    }
   },
   "source": [
    "#### Carregando dados General e US"
   ]
  },
  {
   "cell_type": "code",
   "execution_count": 0,
   "metadata": {
    "application/vnd.databricks.v1+cell": {
     "cellMetadata": {
      "byteLimit": 2048000,
      "rowLimit": 10000
     },
     "inputWidgets": {},
     "nuid": "700fd1d8-87ce-4230-881f-70196b2ebda5",
     "showTitle": false,
     "title": ""
    }
   },
   "outputs": [],
   "source": [
    "caminho_general = '/mnt/projetointegrador/raw/general/'\n",
    "caminho_us = '/mnt/projetointegrador/raw/us/'\n",
    "caminho_trusted = '/mnt/projetointegrador/trusted/'"
   ]
  },
  {
   "cell_type": "code",
   "execution_count": 0,
   "metadata": {
    "application/vnd.databricks.v1+cell": {
     "cellMetadata": {
      "byteLimit": 2048000,
      "rowLimit": 10000
     },
     "inputWidgets": {},
     "nuid": "9c8ad8cd-397d-4188-a7a3-acc6863d0b03",
     "showTitle": false,
     "title": ""
    }
   },
   "outputs": [],
   "source": [
    "# us\n",
    "dados_us = spark.read.option('header', 'true').option('delimiter', ',').option('inferSchema', 'false').csv(caminho_us)\n",
    "dados_us = (\n",
    "    dados_us\n",
    "        .withColumn(\"FONTE\", lit(\"US\"))\n",
    ")"
   ]
  },
  {
   "cell_type": "code",
   "execution_count": 0,
   "metadata": {
    "application/vnd.databricks.v1+cell": {
     "cellMetadata": {
      "byteLimit": 2048000,
      "rowLimit": 10000
     },
     "inputWidgets": {},
     "nuid": "67e61ccf-5157-40f9-a682-f498d6542285",
     "showTitle": false,
     "title": ""
    }
   },
   "outputs": [],
   "source": [
    "\n",
    "# general\n",
    "dados_general = spark.read.option('header', 'true').option('delimiter', ',').option('inferSchema', 'false').csv(caminho_general)\n",
    "dados_general = (\n",
    "    dados_general\n",
    "        .withColumn(\"FONTE\", lit(\"GENERAL\"))\n",
    ")\n",
    "\n",
    "# removendo caso que não usaremos\n",
    "dados_general = dados_general.filter(dados_general.Admin2.isNull())"
   ]
  },
  {
   "cell_type": "markdown",
   "metadata": {
    "application/vnd.databricks.v1+cell": {
     "cellMetadata": {
      "byteLimit": 2048000,
      "rowLimit": 10000
     },
     "inputWidgets": {},
     "nuid": "e5166956-30ae-48bd-bff1-50d8982829c7",
     "showTitle": false,
     "title": ""
    }
   },
   "source": [
    "#### Ajustes colunas"
   ]
  },
  {
   "cell_type": "markdown",
   "metadata": {
    "application/vnd.databricks.v1+cell": {
     "cellMetadata": {
      "byteLimit": 2048000,
      "rowLimit": 10000
     },
     "inputWidgets": {},
     "nuid": "1acbaa0f-8a36-4882-ab0b-810ef9f245fa",
     "showTitle": false,
     "title": ""
    }
   },
   "source": [
    "##### General"
   ]
  },
  {
   "cell_type": "code",
   "execution_count": 0,
   "metadata": {
    "application/vnd.databricks.v1+cell": {
     "cellMetadata": {
      "byteLimit": 2048000,
      "rowLimit": 10000
     },
     "inputWidgets": {},
     "nuid": "481d722a-320b-4688-911a-4e748039b4b4",
     "showTitle": false,
     "title": ""
    }
   },
   "outputs": [],
   "source": [
    "# Reorder columns\n",
    "dados_general_aj = (\n",
    "    dados_general\n",
    "        .withColumnRenamed(\"Province_State\", \"STATE\")\n",
    "        .withColumnRenamed(\"Last_Update\", \"DATE_ID\")\n",
    "        .withColumnRenamed(\"Country_Region\", \"COUNTRY\")\n",
    "        .withColumnRenamed(\"Long_\", \"LONG\")\n",
    "        .withColumnRenamed(\"Lat\", \"LAT\")\n",
    "        .withColumnRenamed(\"Confirmed\", \"CONFIRMED\")\n",
    "        .withColumnRenamed(\"Deaths\", \"DEATHS\")\n",
    "        .withColumnRenamed(\"Recovered\", \"RECOVERED\")\n",
    "        .withColumnRenamed(\"Active\", \"ACTIVE\")\n",
    "        .withColumnRenamed(\"Incident_Rate\", \"INCIDENT_RATE\")\n",
    "        .withColumnRenamed(\"Case_Fatality_Ratio\", \"CASE_FATALITY_RATIO\")\n",
    ")"
   ]
  },
  {
   "cell_type": "markdown",
   "metadata": {
    "application/vnd.databricks.v1+cell": {
     "cellMetadata": {
      "byteLimit": 2048000,
      "rowLimit": 10000
     },
     "inputWidgets": {},
     "nuid": "1a155519-bc18-41c6-81c6-8cf136180146",
     "showTitle": false,
     "title": ""
    }
   },
   "source": [
    "##### US"
   ]
  },
  {
   "cell_type": "code",
   "execution_count": 0,
   "metadata": {
    "application/vnd.databricks.v1+cell": {
     "cellMetadata": {
      "byteLimit": 2048000,
      "rowLimit": 10000
     },
     "inputWidgets": {},
     "nuid": "7f764ce5-5884-49c9-8859-9cf49c62b753",
     "showTitle": false,
     "title": ""
    }
   },
   "outputs": [],
   "source": [
    "\n",
    "# Select columns\n",
    "dados_us_aj = (\n",
    "    dados_us\n",
    "        .withColumnRenamed(\"Country_Region\", \"COUNTRY\")\n",
    "        .withColumnRenamed(\"Province_State\", \"STATE\")\n",
    "        .withColumnRenamed(\"Last_Update\", \"DATE_ID\")\n",
    "        .withColumnRenamed(\"Lat\", \"LAT\")\n",
    "        .withColumnRenamed(\"Long_\", \"LONG\")\n",
    "        .withColumnRenamed(\"Confirmed\", \"CONFIRMED\")\n",
    "        .withColumnRenamed(\"Deaths\", \"DEATHS\")\n",
    "        .withColumnRenamed(\"Recovered\", \"RECOVERED\")\n",
    "        .withColumnRenamed(\"Incident_Rate\", \"INCIDENT_RATE\")\n",
    "        .withColumnRenamed(\"Active\", \"ACTIVE\")\n",
    "        .withColumnRenamed(\"DATE_KEY\", \"DATE_KEY\")\n",
    "        .withColumnRenamed(\"Mortality_Rate\", \"new_CASE_FATALITY_RATIO\")\n",
    ")"
   ]
  },
  {
   "cell_type": "code",
   "execution_count": 0,
   "metadata": {
    "application/vnd.databricks.v1+cell": {
     "cellMetadata": {
      "byteLimit": 2048000,
      "rowLimit": 10000
     },
     "inputWidgets": {},
     "nuid": "6138f777-7d80-48f3-9c98-54fd194a0723",
     "showTitle": false,
     "title": ""
    }
   },
   "outputs": [],
   "source": [
    "# general\n",
    "dados_general_aj = dados_general_aj.select(\"FONTE\", \"STATE\", \"COUNTRY\", \"DATE_ID\", \"LAT\", \"LONG\", \"CONFIRMED\", \"DEATHS\", \"RECOVERED\", \"ACTIVE\", \"INCIDENT_RATE\", \"CASE_FATALITY_RATIO\")\n",
    "\n",
    "# us\n",
    "dados_us_aj = dados_us_aj.select(\"FONTE\", \"STATE\", \"COUNTRY\", \"DATE_ID\", \"LAT\", \"LONG\", \"CONFIRMED\", \"DEATHS\", \"RECOVERED\", \"ACTIVE\", \"INCIDENT_RATE\", \"new_CASE_FATALITY_RATIO\")\n",
    "dados_us_aj = dados_us_aj.withColumnRenamed(\"new_CASE_FATALITY_RATIO\", \"CASE_FATALITY_RATIO\")"
   ]
  },
  {
   "cell_type": "markdown",
   "metadata": {
    "application/vnd.databricks.v1+cell": {
     "cellMetadata": {
      "byteLimit": 2048000,
      "rowLimit": 10000
     },
     "inputWidgets": {},
     "nuid": "befffc8e-2a61-4132-a8fc-f249ddb8c545",
     "showTitle": false,
     "title": ""
    }
   },
   "source": [
    "#### Qualidade e Completude"
   ]
  },
  {
   "cell_type": "code",
   "execution_count": 0,
   "metadata": {
    "application/vnd.databricks.v1+cell": {
     "cellMetadata": {
      "byteLimit": 2048000,
      "rowLimit": 10000
     },
     "inputWidgets": {},
     "nuid": "92fe7ecc-0243-4028-bc62-45e295a128e5",
     "showTitle": false,
     "title": ""
    }
   },
   "outputs": [],
   "source": [
    "# Combine general and us DataFrames\n",
    "base_qualidade = dados_general_aj.union(dados_us_aj)\n",
    "base_qualidade = base_qualidade.alias('base_qualidade')"
   ]
  },
  {
   "cell_type": "code",
   "execution_count": 0,
   "metadata": {
    "application/vnd.databricks.v1+cell": {
     "cellMetadata": {
      "byteLimit": 2048000,
      "rowLimit": 10000
     },
     "inputWidgets": {},
     "nuid": "0f57951d-bd2a-4462-82bb-335737e46fdd",
     "showTitle": false,
     "title": ""
    }
   },
   "outputs": [],
   "source": [
    "# ajustando colunas\n",
    "base_qualidade = (\n",
    "    base_qualidade\n",
    "        .withColumn(\"FONTE\", col(\"FONTE\").cast(\"string\"))\n",
    "        .withColumn(\"STATE\", col(\"STATE\").cast(\"string\"))\n",
    "        .withColumn(\"COUNTRY\", col(\"COUNTRY\").cast(\"string\"))\n",
    "        .withColumn(\"DATE_ID\", col(\"DATE_ID\").cast(DateType()))\n",
    "        .withColumn(\"LAT\", col(\"LAT\").cast(\"string\"))\n",
    "        .withColumn(\"LONG\", col(\"LONG\").cast(\"string\"))\n",
    "        .withColumn(\"CONFIRMED\", col(\"CONFIRMED\").cast(IntegerType()))\n",
    "        .withColumn(\"DEATHS\", col(\"DEATHS\").cast(IntegerType()))\n",
    "        .withColumn(\"RECOVERED\", col(\"RECOVERED\").cast(IntegerType()))\n",
    "        .withColumn(\"ACTIVE\", col(\"ACTIVE\").cast(IntegerType()))\n",
    "        .withColumn(\"INCIDENT_RATE\", col(\"INCIDENT_RATE\").cast(DecimalType()))\n",
    "        .withColumn(\"CASE_FATALITY_RATIO\", col(\"CASE_FATALITY_RATIO\").cast(DecimalType()))\n",
    "    \n",
    ")"
   ]
  },
  {
   "cell_type": "code",
   "execution_count": 0,
   "metadata": {
    "application/vnd.databricks.v1+cell": {
     "cellMetadata": {
      "byteLimit": 2048000,
      "rowLimit": 10000
     },
     "inputWidgets": {},
     "nuid": "63da3e94-107e-4360-a937-5c8f7b9dcb67",
     "showTitle": false,
     "title": ""
    }
   },
   "outputs": [],
   "source": [
    "# Combine general and us DataFrames\n",
    "base_qualidade = (\n",
    "    base_qualidade\n",
    "        .withColumn(\"teste_completude_lat\", when(isnull(col(\"LAT\")), \"sem_latitude\").otherwise(\"correto\"))\n",
    "        .withColumn(\"teste_completude_long\", when(isnull(col(\"LONG\")), \"sem_longitude\").otherwise(\"correto\"))\n",
    "        .withColumn(\"teste_range_lat\", when(isnull(col(\"LAT\")), \"sem_latitude\").otherwise(when((col(\"LAT\") >= -90) & (col(\"LAT\") <= 90), \"correto\").otherwise(\"latitude_fora_range\")))\n",
    "        .withColumn(\"teste_range_long\", when(isnull(col(\"LONG\")), \"sem_longitude\").otherwise(when((col(\"LONG\") >= -180) & (col(\"LONG\") <= 180), \"correto\").otherwise(\"long_fora_range\")))\n",
    "        .withColumn(\"teste_confirmed\", when(isnull(col(\"CONFIRMED\")), \"confirmed_nulos\").otherwise(when(col(\"CONFIRMED\") < 0, \"confirmed_negativos\").otherwise(\"correto\")))\n",
    "        .withColumn(\"teste_deaths\", when(isnull(col(\"DEATHS\")), \"deaths_nulos\").otherwise(when(col(\"DEATHS\") < 0, \"deaths_negativos\").otherwise(\"correto\")))\n",
    "        .withColumn(\"teste_recovered\", when(isnull(col(\"RECOVERED\")), \"recovered_nulos\").otherwise(when(col(\"RECOVERED\") < 0, \"recovered_negativos\").otherwise(\"correto\")))\n",
    "        .withColumn(\"teste_active\", when(isnull(col(\"ACTIVE\")), \"active_nulos\").otherwise(when(col(\"ACTIVE\") < 0, \"active_negativos\").otherwise(\"correto\")))\n",
    "        .withColumn(\"teste_incident_rate\", when(isnull(col(\"INCIDENT_RATE\")), \"incident_rate_nulos\").otherwise(when(col(\"INCIDENT_RATE\") < 0, \"incident_rate_negativos\").otherwise(\"correto\")))\n",
    "        .withColumn(\"teste_case_fatality_ratio\", when(isnull(col(\"CASE_FATALITY_RATIO\")), \"case_fatality_ratio_nulos\").otherwise(when(col(\"CASE_FATALITY_RATIO\") < 0, \"case_fatality_ratio_negativos\").otherwise(\"correto\")))\n",
    "        .withColumn(\"check_calc_case_fatality_ratio\", (col(\"DEATHS\") / col(\"CONFIRMED\") * 100) == col(\"CASE_FATALITY_RATIO\"))\n",
    "        .withColumn(\"NEW_CASE_FATALITY_RATIO\", col(\"DEATHS\") / col(\"CONFIRMED\") * 100)\n",
    ")"
   ]
  },
  {
   "cell_type": "code",
   "execution_count": 0,
   "metadata": {
    "application/vnd.databricks.v1+cell": {
     "cellMetadata": {
      "byteLimit": 2048000,
      "rowLimit": 10000
     },
     "inputWidgets": {},
     "nuid": "a8612799-0024-43c0-8446-1612b73dff80",
     "showTitle": false,
     "title": ""
    }
   },
   "outputs": [
    {
     "output_type": "stream",
     "name": "stdout",
     "output_type": "stream",
     "text": [
      "Out[52]: \"\\nbase_qualidade = (\\n    base_qualidade.filter(\\n        (base_qualidade.teste_completude_lat == 'correto') &\\n        (base_qualidade.teste_completude_long == 'correto') &\\n        (base_qualidade.teste_range_lat == 'correto') &\\n        (base_qualidade.teste_range_long == 'correto') &\\n        (base_qualidade.teste_confirmed == 'correto') &\\n        (base_qualidade.teste_deaths == 'correto') &\\n        (base_qualidade.teste_recovered == 'correto') &\\n        (base_qualidade.teste_active == 'correto')\\n    )\\n)\\n\""
     ]
    }
   ],
   "source": [
    "# Limpando colunas de teste\n",
    "\n",
    "'''\n",
    "base_qualidade = (\n",
    "    base_qualidade.filter(\n",
    "        (base_qualidade.teste_completude_lat == 'correto') &\n",
    "        (base_qualidade.teste_completude_long == 'correto') &\n",
    "        (base_qualidade.teste_range_lat == 'correto') &\n",
    "        (base_qualidade.teste_range_long == 'correto') &\n",
    "        (base_qualidade.teste_confirmed == 'correto') &\n",
    "        (base_qualidade.teste_deaths == 'correto') &\n",
    "        (base_qualidade.teste_recovered == 'correto') &\n",
    "        (base_qualidade.teste_active == 'correto')\n",
    "    )\n",
    ")\n",
    "'''"
   ]
  },
  {
   "cell_type": "markdown",
   "metadata": {
    "application/vnd.databricks.v1+cell": {
     "cellMetadata": {
      "byteLimit": 2048000,
      "rowLimit": 10000
     },
     "inputWidgets": {},
     "nuid": "9b98d441-109a-4143-a1ce-df3873975bf1",
     "showTitle": false,
     "title": ""
    }
   },
   "source": [
    "#### Tabela Trusted"
   ]
  },
  {
   "cell_type": "markdown",
   "metadata": {
    "application/vnd.databricks.v1+cell": {
     "cellMetadata": {
      "byteLimit": 2048000,
      "rowLimit": 10000
     },
     "inputWidgets": {},
     "nuid": "5b4e50cf-9d98-4eab-8de1-c03060ca1ada",
     "showTitle": false,
     "title": ""
    }
   },
   "source": [
    "##### Criando colunas não-acumuladas"
   ]
  },
  {
   "cell_type": "code",
   "execution_count": 0,
   "metadata": {
    "application/vnd.databricks.v1+cell": {
     "cellMetadata": {
      "byteLimit": 2048000,
      "rowLimit": 10000
     },
     "inputWidgets": {},
     "nuid": "d5d02b55-7263-4d28-91f7-c6f5fc457958",
     "showTitle": false,
     "title": ""
    }
   },
   "outputs": [],
   "source": [
    "WindowSpec = Window.partitionBy(*['STATE', 'COUNTRY']).orderBy(*['DATE_ID','STATE','COUNTRY'])\n",
    "\n",
    "base_trusted = (\n",
    "    base_qualidade\n",
    "        .withColumn(\"CONFIRMED_NC\", col(\"CONFIRMED\") - lag(\"CONFIRMED\").over(WindowSpec))\n",
    "        .withColumn(\"DEATHS_NC\", col(\"DEATHS\") - lag(\"DEATHS\").over(WindowSpec))\n",
    "        .withColumn(\"RECOVERED_NC\", col(\"RECOVERED\") - lag(\"RECOVERED\").over(WindowSpec))\n",
    "        .withColumn(\"ACTIVE_NC\", col(\"ACTIVE\") - lag(\"ACTIVE\").over(WindowSpec))\n",
    ")\n",
    "\n",
    "base_trusted = (\n",
    "    base_trusted\n",
    "        .withColumn(\"CONFIRMED_NC\", coalesce('CONFIRMED_NC', 'CONFIRMED'))\n",
    "        .withColumn(\"DEATHS_NC\", coalesce('DEATHS_NC', 'DEATHS'))\n",
    "        .withColumn(\"RECOVERED_NC\", coalesce('RECOVERED_NC', 'RECOVERED'))\n",
    "        .withColumn(\"ACTIVE_NC\", coalesce('ACTIVE_NC', 'ACTIVE'))\n",
    ")"
   ]
  },
  {
   "cell_type": "markdown",
   "metadata": {
    "application/vnd.databricks.v1+cell": {
     "cellMetadata": {
      "byteLimit": 2048000,
      "rowLimit": 10000
     },
     "inputWidgets": {},
     "nuid": "6feb9b54-88fe-451e-913e-fa5ceff48102",
     "showTitle": false,
     "title": ""
    }
   },
   "source": [
    "##### Ajustes Finais"
   ]
  },
  {
   "cell_type": "code",
   "execution_count": 0,
   "metadata": {
    "application/vnd.databricks.v1+cell": {
     "cellMetadata": {
      "byteLimit": 2048000,
      "rowLimit": 10000
     },
     "inputWidgets": {},
     "nuid": "4ec0e037-a17f-4baa-8aea-a62df425c356",
     "showTitle": false,
     "title": ""
    }
   },
   "outputs": [],
   "source": [
    "base_trusted = (\n",
    "    base_trusted\n",
    "        .select(\"FONTE\", \"STATE\", \"COUNTRY\", \"DATE_ID\", \"LAT\", \"LONG\", \"CONFIRMED\", \"DEATHS\", \"RECOVERED\", \"ACTIVE\", \"INCIDENT_RATE\", \"NEW_CASE_FATALITY_RATIO\", \"CONFIRMED_NC\", \"DEATHS_NC\", \"RECOVERED_NC\", \"ACTIVE_NC\")\n",
    "        .withColumnRenamed(\"NEW_CASE_FATALITY_RATIO\", \"CASE_FATALITY_RATIO\")\n",
    "\n",
    "        # colunas acumuladas\n",
    "        .withColumnRenamed(\"CONFIRMED\", \"CONFIRMED_AC\")\n",
    "        .withColumnRenamed(\"DEATHS\", \"DEATHS_AC\")\n",
    "        .withColumnRenamed(\"RECOVERED\", \"RECOVERED_AC\")\n",
    "        .withColumnRenamed(\"ACTIVE\", \"ACTIVE_AC\")\n",
    "\n",
    "        # colunas não-acumuladas\n",
    "\n",
    "        .withColumnRenamed(\"CONFIRMED_NC\", \"CONFIRMED\")\n",
    "        .withColumnRenamed(\"DEATHS_NC\", \"DEATHS\")\n",
    "        .withColumnRenamed(\"RECOVERED_NC\", \"RECOVERED\")\n",
    "        .withColumnRenamed(\"ACTIVE_NC\", \"ACTIVE\")\n",
    "\n",
    "    )"
   ]
  },
  {
   "cell_type": "markdown",
   "metadata": {
    "application/vnd.databricks.v1+cell": {
     "cellMetadata": {
      "byteLimit": 2048000,
      "rowLimit": 10000
     },
     "inputWidgets": {},
     "nuid": "a66f9e1f-161a-4fc8-9aad-e9d4b85d19c0",
     "showTitle": false,
     "title": ""
    }
   },
   "source": [
    "##### Exportando"
   ]
  },
  {
   "cell_type": "code",
   "execution_count": 0,
   "metadata": {
    "application/vnd.databricks.v1+cell": {
     "cellMetadata": {
      "byteLimit": 2048000,
      "rowLimit": 10000
     },
     "inputWidgets": {},
     "nuid": "f71be35f-5f85-4350-9982-c36d9b6ac542",
     "showTitle": false,
     "title": ""
    }
   },
   "outputs": [],
   "source": [
    "cam_final = \"/mnt/projetointegrador/trusted/base_trusted\"\n",
    "\n",
    "base_trusted.write.format('csv').mode('overwrite').partitionBy('DATE_ID').options(header='True', delimiter='|').save(cam_final)"
   ]
  }
 ],
 "metadata": {
  "application/vnd.databricks.v1+notebook": {
   "dashboards": [],
   "language": "python",
   "notebookMetadata": {
    "mostRecentlyExecutedCommandWithImplicitDF": {
     "commandId": 2185208629230036,
     "dataframes": [
      "_sqldf"
     ]
    },
    "pythonIndentUnit": 4
   },
   "notebookName": "03_teste_qualidade_raw_trusted",
   "widgets": {}
  }
 },
 "nbformat": 4,
 "nbformat_minor": 0
}
