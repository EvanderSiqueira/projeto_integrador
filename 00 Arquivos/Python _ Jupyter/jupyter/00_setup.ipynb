{
 "cells": [
  {
   "cell_type": "markdown",
   "metadata": {
    "application/vnd.databricks.v1+cell": {
     "cellMetadata": {},
     "inputWidgets": {},
     "nuid": "80a626bc-f9eb-464e-b330-2ecbc811385f",
     "showTitle": false,
     "title": ""
    }
   },
   "source": [
    "### Configuração inicial do ambiente"
   ]
  },
  {
   "cell_type": "markdown",
   "metadata": {
    "application/vnd.databricks.v1+cell": {
     "cellMetadata": {},
     "inputWidgets": {},
     "nuid": "cab0c686-a633-4705-91d1-0eb024b66126",
     "showTitle": false,
     "title": ""
    }
   },
   "source": [
    "#### Definições"
   ]
  },
  {
   "cell_type": "code",
   "execution_count": 0,
   "metadata": {
    "application/vnd.databricks.v1+cell": {
     "cellMetadata": {
      "byteLimit": 2048000,
      "rowLimit": 10000
     },
     "inputWidgets": {},
     "nuid": "87291e25-3dff-495e-810c-7a5b709541f2",
     "showTitle": false,
     "title": ""
    }
   },
   "outputs": [
    {
     "output_type": "display_data",
     "data": {
      "application/vnd.databricks.v1+bamboolib_hint": "{\"pd.DataFrames\": [], \"version\": \"0.0.1\"}",
      "text/plain": []
     },
     "metadata": {},
     "output_type": "display_data"
    }
   ],
   "source": [
    "# importando bibliotecas necessárias\n",
    "from pyspark.sql.functions import regexp_replace, to_date, split, lit\n",
    "from pyspark.sql.types import StructType, StructField, StringType\n",
    "from bs4 import BeautifulSoup\n",
    "import pandas as pd\n",
    "import requests\n",
    "import re\n",
    "import os"
   ]
  },
  {
   "cell_type": "code",
   "execution_count": 0,
   "metadata": {
    "application/vnd.databricks.v1+cell": {
     "cellMetadata": {
      "byteLimit": 2048000,
      "rowLimit": 10000
     },
     "inputWidgets": {},
     "nuid": "93260cb1-bdd8-499e-95cd-c943dac97c85",
     "showTitle": false,
     "title": ""
    }
   },
   "outputs": [],
   "source": [
    "# raw\n",
    "caminho_lake_raw = 'dbfs:/mnt/projetointegrador/raw/'\n",
    "caminho_lake_general = 'dbfs:/mnt/projetointegrador/raw/general'\n",
    "caminho_lake_us = 'dbfs:/mnt/projetointegrador/raw/us'\n",
    "\n",
    "# trusted\n",
    "caminho_lake_trusted = 'dbfs:/mnt/projetointegrador/trusted/'\n",
    "\n",
    "# refined\n",
    "caminho_lake_refined = 'dbfs:/mnt/projetointegrador/refined/'\n",
    "caminho_lake_refined_fato = 'dbfs:/mnt/projetointegrador/refined/fato_covid/'\n",
    "caminho_lake_refined_calendar = 'dbfs:/mnt/projetointegrador/refined/dim_calendar/'"
   ]
  },
  {
   "cell_type": "code",
   "execution_count": 0,
   "metadata": {
    "application/vnd.databricks.v1+cell": {
     "cellMetadata": {
      "byteLimit": 2048000,
      "rowLimit": 10000
     },
     "inputWidgets": {},
     "nuid": "4c82fe84-6430-4b3b-9c90-953307eea2bb",
     "showTitle": false,
     "title": ""
    }
   },
   "outputs": [],
   "source": [
    "def check_diretorio(caminho):\n",
    "    try:\n",
    "        dbutils.fs.ls(caminho)\n",
    "        print('Pasta já existe: ' + caminho)\n",
    "    except: \n",
    "        dbutils.fs.mkdirs(caminho)\n",
    "        print('Pasta criada: ' + caminho)"
   ]
  },
  {
   "cell_type": "code",
   "execution_count": 0,
   "metadata": {
    "application/vnd.databricks.v1+cell": {
     "cellMetadata": {
      "byteLimit": 2048000,
      "rowLimit": 10000
     },
     "inputWidgets": {},
     "nuid": "e13349dc-bdf1-47fa-961b-06fc7571072e",
     "showTitle": false,
     "title": ""
    }
   },
   "outputs": [
    {
     "output_type": "stream",
     "name": "stdout",
     "output_type": "stream",
     "text": [
      "Pasta já existe: dbfs:/mnt/projetointegrador/raw/\nPasta já existe: dbfs:/mnt/projetointegrador/raw/general\nPasta já existe: dbfs:/mnt/projetointegrador/raw/us\nPasta já existe: dbfs:/mnt/projetointegrador/trusted/\nPasta já existe: dbfs:/mnt/projetointegrador/refined/\nPasta já existe: dbfs:/mnt/projetointegrador/refined/fato_covid/\nPasta já existe: dbfs:/mnt/projetointegrador/refined/dim_calendar/\n"
     ]
    }
   ],
   "source": [
    "cam = [caminho_lake_raw, caminho_lake_general, caminho_lake_us, caminho_lake_trusted, caminho_lake_refined, caminho_lake_refined_fato, caminho_lake_refined_calendar]\n",
    "\n",
    "for c in cam:\n",
    "    check_diretorio(c)"
   ]
  }
 ],
 "metadata": {
  "application/vnd.databricks.v1+notebook": {
   "dashboards": [],
   "language": "python",
   "notebookMetadata": {
    "pythonIndentUnit": 4
   },
   "notebookName": "00_setup",
   "widgets": {}
  }
 },
 "nbformat": 4,
 "nbformat_minor": 0
}
