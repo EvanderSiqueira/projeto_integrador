{
 "cells": [
  {
   "cell_type": "markdown",
   "metadata": {
    "application/vnd.databricks.v1+cell": {
     "cellMetadata": {
      "byteLimit": 2048000,
      "rowLimit": 10000
     },
     "inputWidgets": {},
     "nuid": "f581854f-9cb8-48ab-aed5-abfa223157fe",
     "showTitle": false,
     "title": ""
    }
   },
   "source": [
    "### Extração dos dados Github"
   ]
  },
  {
   "cell_type": "code",
   "execution_count": 0,
   "metadata": {
    "application/vnd.databricks.v1+cell": {
     "cellMetadata": {
      "byteLimit": 2048000,
      "rowLimit": 10000
     },
     "inputWidgets": {},
     "nuid": "e41c976f-8a24-4629-b0f4-72952c3ac7f1",
     "showTitle": false,
     "title": ""
    }
   },
   "outputs": [],
   "source": [
    "# importando bibliotecas necessárias\n",
    "from pyspark.sql.functions import regexp_replace, to_date\n",
    "from bs4 import BeautifulSoup\n",
    "import pandas as pd\n",
    "import requests\n",
    "import re\n",
    "from time import sleep\n",
    "\n",
    "from pyspark.sql.functions import col, date_format\n",
    "from pyspark.sql.types import StringType"
   ]
  },
  {
   "cell_type": "markdown",
   "metadata": {
    "application/vnd.databricks.v1+cell": {
     "cellMetadata": {
      "byteLimit": 2048000,
      "rowLimit": 10000
     },
     "inputWidgets": {},
     "nuid": "2c309898-1b9a-45ce-a7d7-1e6af238071e",
     "showTitle": false,
     "title": ""
    }
   },
   "source": [
    "#### Importando datas do validador"
   ]
  },
  {
   "cell_type": "code",
   "execution_count": 0,
   "metadata": {
    "application/vnd.databricks.v1+cell": {
     "cellMetadata": {
      "byteLimit": 2048000,
      "rowLimit": 10000
     },
     "inputWidgets": {},
     "nuid": "b30b5f75-8a47-42da-8666-f7187aefd982",
     "showTitle": false,
     "title": ""
    }
   },
   "outputs": [],
   "source": [
    "try:\n",
    "    datas_faltantes_general = spark.read.option('header', 'true').option('inferSchema', 'true').csv(\"/mnt/projetointegrador/raw/datas_faltantes/datas_general/\")\n",
    "except: 0\n",
    "\n",
    "try:\n",
    "    datas_faltantes_us = spark.read.option('header', 'true').option('inferSchema', 'true').csv(\"/mnt/projetointegrador/raw/datas_faltantes/datas_us/\")\n",
    "except: 0"
   ]
  },
  {
   "cell_type": "code",
   "execution_count": 0,
   "metadata": {
    "application/vnd.databricks.v1+cell": {
     "cellMetadata": {
      "byteLimit": 2048000,
      "rowLimit": 10000
     },
     "inputWidgets": {},
     "nuid": "40364919-4abf-49b9-98c2-b6c70a9907da",
     "showTitle": false,
     "title": ""
    }
   },
   "outputs": [
    {
     "output_type": "display_data",
     "data": {
      "text/plain": [
       "Não tem faltantes"
      ]
     },
     "metadata": {
      "application/vnd.databricks.v1+output": {
       "arguments": {},
       "data": "Não tem faltantes",
       "metadata": {},
       "type": "exit"
      }
     },
     "output_type": "display_data"
    }
   ],
   "source": [
    "check_faltantes = datas_faltantes_us.union(datas_faltantes_general)\n",
    "\n",
    "if check_faltantes.count() == 0:\n",
    "    dbutils.notebook.exit(\"Não tem faltantes\")"
   ]
  },
  {
   "cell_type": "code",
   "execution_count": 0,
   "metadata": {
    "application/vnd.databricks.v1+cell": {
     "cellMetadata": {
      "byteLimit": 2048000,
      "rowLimit": 10000
     },
     "inputWidgets": {},
     "nuid": "4c0a427f-cc53-4d97-9615-f3a2dfa9d464",
     "showTitle": false,
     "title": ""
    }
   },
   "outputs": [],
   "source": [
    "datas_faltantes_general = datas_faltantes_general.withColumn(\"DATE_KEY\", col(\"DATE_KEY\").cast(StringType()))\n",
    "datas_faltantes_us = datas_faltantes_us.withColumn(\"DATE_KEY\", col(\"DATE_KEY\").cast(StringType()))"
   ]
  },
  {
   "cell_type": "markdown",
   "metadata": {
    "application/vnd.databricks.v1+cell": {
     "cellMetadata": {
      "byteLimit": 2048000,
      "rowLimit": 10000
     },
     "inputWidgets": {},
     "nuid": "44898022-3f51-4945-aa52-a2cedaa47869",
     "showTitle": false,
     "title": ""
    }
   },
   "source": [
    "#### Definições"
   ]
  },
  {
   "cell_type": "code",
   "execution_count": 0,
   "metadata": {
    "application/vnd.databricks.v1+cell": {
     "cellMetadata": {
      "byteLimit": 2048000,
      "rowLimit": 10000
     },
     "inputWidgets": {},
     "nuid": "1e0c9713-4107-4305-a8a1-61eae2eeeb2d",
     "showTitle": false,
     "title": ""
    }
   },
   "outputs": [],
   "source": [
    "def gerando_df_github(url_github, url_base_arquivo, tipo, faltantes):\n",
    "    \n",
    "    if faltantes.count() == 0:\n",
    "        return None\n",
    "\n",
    "    csvfiles = faltantes.select(\"DATE_KEY\").rdd.flatMap(lambda x: x).collect()\n",
    "\n",
    "    #print(csvfiles)\n",
    "    # criando dataframe\n",
    "    for i in csvfiles:\n",
    "            sleep(15)\n",
    "            # obtendo nome do arquivo\n",
    "            #print(i)\n",
    "            nome_arq = i + '.csv'\n",
    "            # var_data = i\n",
    "\n",
    "            #print(i)\n",
    "            # criando o caminho completo do arquivo\n",
    "            caminho_completo_arq = url_base_arquivo + nome_arq\n",
    "            \n",
    "            # leitura dos dados do git e conversão para pyspark\n",
    "            df = pd.read_csv(caminho_completo_arq, sep=',')\n",
    "            # df['DATE_KEY'] = var_data\n",
    "\n",
    "            # salvamento dos arquivos na pasta\n",
    "            arq = '/dbfs/mnt/projetointegrador/raw/' + tipo + '/' + nome_arq\n",
    "            df.to_csv(arq, sep='|', encoding='utf-8', header=True, index=False)"
   ]
  },
  {
   "cell_type": "markdown",
   "metadata": {
    "application/vnd.databricks.v1+cell": {
     "cellMetadata": {
      "byteLimit": 2048000,
      "rowLimit": 10000
     },
     "inputWidgets": {},
     "nuid": "79115872-6162-4cf6-a3f6-da28da29b4f9",
     "showTitle": false,
     "title": ""
    }
   },
   "source": [
    "#### Carregando dados\n",
    "\n",
    "Iremos analisar dados da `csse_covid_19_daily_reports` e também da pasta `csse_covid_19_daily_reports_us` que representam os dados do Estados Unidos, disponíveis em: https://github.com/CSSEGISandData/COVID-19/tree/master/csse_covid_19_data/"
   ]
  },
  {
   "cell_type": "markdown",
   "metadata": {
    "application/vnd.databricks.v1+cell": {
     "cellMetadata": {
      "byteLimit": 2048000,
      "rowLimit": 10000
     },
     "inputWidgets": {},
     "nuid": "9da6f282-d094-4fe6-90b0-4f234ddc9c16",
     "showTitle": false,
     "title": ""
    }
   },
   "source": [
    "##### csse_covid_19_daily_reports"
   ]
  },
  {
   "cell_type": "code",
   "execution_count": 0,
   "metadata": {
    "application/vnd.databricks.v1+cell": {
     "cellMetadata": {
      "byteLimit": 2048000,
      "rowLimit": 10000
     },
     "inputWidgets": {},
     "nuid": "5d24820e-95f8-4332-9d01-3b63e925250c",
     "showTitle": false,
     "title": ""
    }
   },
   "outputs": [],
   "source": [
    "\n",
    "# ================================================================================================================================================\n",
    "# general - csse_covid_19_daily_reports\n",
    "\n",
    "# caminho dos arquivos csv \n",
    "url_github = 'https://github.com/CSSEGISandData/COVID-19/tree/master/csse_covid_19_data/csse_covid_19_daily_reports/'\n",
    "\n",
    "# caminho raw dos arquivos csv\n",
    "url_base_arquivo = 'https://raw.githubusercontent.com/CSSEGISandData/COVID-19/master/csse_covid_19_data/csse_covid_19_daily_reports/'\n",
    "\n",
    "\n",
    "# ================================================================================================================================================\n",
    "# us - csse_covid_19_daily_reports_us\n",
    "\n",
    "# caminho dos arquivos csv \n",
    "url_github_us = 'https://github.com/CSSEGISandData/COVID-19/tree/master/csse_covid_19_data/csse_covid_19_daily_reports_us/'\n",
    "\n",
    "# caminho raw dos arquivos csv\n",
    "url_base_arquivo_us = 'https://raw.githubusercontent.com/CSSEGISandData/COVID-19/master/csse_covid_19_data/csse_covid_19_daily_reports_us/'"
   ]
  },
  {
   "cell_type": "markdown",
   "metadata": {
    "application/vnd.databricks.v1+cell": {
     "cellMetadata": {
      "byteLimit": 2048000,
      "rowLimit": 10000
     },
     "inputWidgets": {},
     "nuid": "62e0de40-a0ba-4a77-87ef-3a31b706f582",
     "showTitle": false,
     "title": ""
    }
   },
   "source": [
    "##### Gerando dados"
   ]
  },
  {
   "cell_type": "code",
   "execution_count": 0,
   "metadata": {
    "application/vnd.databricks.v1+cell": {
     "cellMetadata": {
      "byteLimit": 2048000,
      "rowLimit": 10000
     },
     "inputWidgets": {},
     "nuid": "7e24729d-9d9d-46ea-892a-4cc7629311e8",
     "showTitle": false,
     "title": ""
    }
   },
   "outputs": [],
   "source": [
    "# general - csse_covid_19_daily_reports\n",
    "gerando_df_github(url_github, url_base_arquivo, 'general', datas_faltantes_general)"
   ]
  },
  {
   "cell_type": "code",
   "execution_count": 0,
   "metadata": {
    "application/vnd.databricks.v1+cell": {
     "cellMetadata": {
      "byteLimit": 2048000,
      "rowLimit": 10000
     },
     "inputWidgets": {},
     "nuid": "aacb1f94-ab5a-4d9a-b81c-caf331d2623b",
     "showTitle": false,
     "title": ""
    }
   },
   "outputs": [],
   "source": [
    "# us - csse_covid_19_daily_reports\n",
    "\n",
    "gerando_df_github(url_github_us, url_base_arquivo_us, 'us', datas_faltantes_us)"
   ]
  }
 ],
 "metadata": {
  "application/vnd.databricks.v1+notebook": {
   "dashboards": [],
   "language": "python",
   "notebookMetadata": {
    "mostRecentlyExecutedCommandWithImplicitDF": {
     "commandId": 2438943979322907,
     "dataframes": [
      "_sqldf"
     ]
    },
    "pythonIndentUnit": 4
   },
   "notebookName": "02_extracao_dados_covid_github",
   "widgets": {}
  }
 },
 "nbformat": 4,
 "nbformat_minor": 0
}
